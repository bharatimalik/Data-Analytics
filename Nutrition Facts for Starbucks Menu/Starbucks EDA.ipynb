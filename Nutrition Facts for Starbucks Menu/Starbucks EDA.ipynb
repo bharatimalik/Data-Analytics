{
 "cells": [
  {
   "cell_type": "markdown",
   "metadata": {},
   "source": [
    "# EDA Analysis"
   ]
  },
  {
   "cell_type": "markdown",
   "metadata": {},
   "source": [
    "Kaggle Dataset - Nutrition Facts for Starbucks Menu\n",
    "Reference: https://www.kaggle.com/starbucks/starbucks-menu"
   ]
  },
  {
   "cell_type": "markdown",
   "metadata": {},
   "source": [
    "#### About Dataset\n",
    "\n",
    "Starbucks is an American coffee chain founded in Seattle. It serves both beverages and food.\n",
    "\n",
    "This dataset includes the nutritional information for Starbucks’ food and drink menu items. All nutritional information for drinks are for a 12oz serving size."
   ]
  },
  {
   "cell_type": "markdown",
   "metadata": {},
   "source": [
    "### Importing libraries"
   ]
  },
  {
   "cell_type": "code",
   "execution_count": 1,
   "metadata": {},
   "outputs": [],
   "source": [
    "%matplotlib inline\n",
    "import numpy as np # linear algebra\n",
    "import pandas as pd # data processing\n",
    "\n",
    "import matplotlib.pyplot as plt\n",
    "import seaborn as sns\n",
    "\n",
    "# Suppress deprecation and incorrect usage warnings \n",
    "import warnings\n",
    "warnings.filterwarnings('ignore')"
   ]
  },
  {
   "cell_type": "markdown",
   "metadata": {},
   "source": [
    "### Reading dataset"
   ]
  },
  {
   "cell_type": "code",
   "execution_count": 2,
   "metadata": {},
   "outputs": [
    {
     "data": {
      "text/html": [
       "<div>\n",
       "<style scoped>\n",
       "    .dataframe tbody tr th:only-of-type {\n",
       "        vertical-align: middle;\n",
       "    }\n",
       "\n",
       "    .dataframe tbody tr th {\n",
       "        vertical-align: top;\n",
       "    }\n",
       "\n",
       "    .dataframe thead th {\n",
       "        text-align: right;\n",
       "    }\n",
       "</style>\n",
       "<table border=\"1\" class=\"dataframe\">\n",
       "  <thead>\n",
       "    <tr style=\"text-align: right;\">\n",
       "      <th></th>\n",
       "      <th>Beverage_category</th>\n",
       "      <th>Beverage</th>\n",
       "      <th>Beverage_prep</th>\n",
       "      <th>Calories</th>\n",
       "      <th>Total Fat (g)</th>\n",
       "      <th>Trans Fat (g)</th>\n",
       "      <th>Saturated Fat (g)</th>\n",
       "      <th>Sodium (mg)</th>\n",
       "      <th>Total Carbohydrates (g)</th>\n",
       "      <th>Cholesterol (mg)</th>\n",
       "      <th>Dietary Fibre (g)</th>\n",
       "      <th>Sugars (g)</th>\n",
       "      <th>Protein (g)</th>\n",
       "      <th>Vitamin A (% DV)</th>\n",
       "      <th>Vitamin C (% DV)</th>\n",
       "      <th>Calcium (% DV)</th>\n",
       "      <th>Iron (% DV)</th>\n",
       "      <th>Caffeine (mg)</th>\n",
       "    </tr>\n",
       "  </thead>\n",
       "  <tbody>\n",
       "    <tr>\n",
       "      <th>0</th>\n",
       "      <td>Coffee</td>\n",
       "      <td>Brewed Coffee</td>\n",
       "      <td>Short</td>\n",
       "      <td>3</td>\n",
       "      <td>0.1</td>\n",
       "      <td>0.0</td>\n",
       "      <td>0.0</td>\n",
       "      <td>0</td>\n",
       "      <td>5</td>\n",
       "      <td>0</td>\n",
       "      <td>0</td>\n",
       "      <td>0</td>\n",
       "      <td>0.3</td>\n",
       "      <td>0%</td>\n",
       "      <td>0%</td>\n",
       "      <td>0%</td>\n",
       "      <td>0%</td>\n",
       "      <td>175</td>\n",
       "    </tr>\n",
       "    <tr>\n",
       "      <th>1</th>\n",
       "      <td>Coffee</td>\n",
       "      <td>Brewed Coffee</td>\n",
       "      <td>Tall</td>\n",
       "      <td>4</td>\n",
       "      <td>0.1</td>\n",
       "      <td>0.0</td>\n",
       "      <td>0.0</td>\n",
       "      <td>0</td>\n",
       "      <td>10</td>\n",
       "      <td>0</td>\n",
       "      <td>0</td>\n",
       "      <td>0</td>\n",
       "      <td>0.5</td>\n",
       "      <td>0%</td>\n",
       "      <td>0%</td>\n",
       "      <td>0%</td>\n",
       "      <td>0%</td>\n",
       "      <td>260</td>\n",
       "    </tr>\n",
       "    <tr>\n",
       "      <th>2</th>\n",
       "      <td>Coffee</td>\n",
       "      <td>Brewed Coffee</td>\n",
       "      <td>Grande</td>\n",
       "      <td>5</td>\n",
       "      <td>0.1</td>\n",
       "      <td>0.0</td>\n",
       "      <td>0.0</td>\n",
       "      <td>0</td>\n",
       "      <td>10</td>\n",
       "      <td>0</td>\n",
       "      <td>0</td>\n",
       "      <td>0</td>\n",
       "      <td>1.0</td>\n",
       "      <td>0%</td>\n",
       "      <td>0%</td>\n",
       "      <td>0%</td>\n",
       "      <td>0%</td>\n",
       "      <td>330</td>\n",
       "    </tr>\n",
       "    <tr>\n",
       "      <th>3</th>\n",
       "      <td>Coffee</td>\n",
       "      <td>Brewed Coffee</td>\n",
       "      <td>Venti</td>\n",
       "      <td>5</td>\n",
       "      <td>0.1</td>\n",
       "      <td>0.0</td>\n",
       "      <td>0.0</td>\n",
       "      <td>0</td>\n",
       "      <td>10</td>\n",
       "      <td>0</td>\n",
       "      <td>0</td>\n",
       "      <td>0</td>\n",
       "      <td>1.0</td>\n",
       "      <td>0%</td>\n",
       "      <td>0%</td>\n",
       "      <td>2%</td>\n",
       "      <td>0%</td>\n",
       "      <td>410</td>\n",
       "    </tr>\n",
       "    <tr>\n",
       "      <th>4</th>\n",
       "      <td>Classic Espresso Drinks</td>\n",
       "      <td>Caffè Latte</td>\n",
       "      <td>Short Nonfat Milk</td>\n",
       "      <td>70</td>\n",
       "      <td>0.1</td>\n",
       "      <td>0.1</td>\n",
       "      <td>0.0</td>\n",
       "      <td>5</td>\n",
       "      <td>75</td>\n",
       "      <td>10</td>\n",
       "      <td>0</td>\n",
       "      <td>9</td>\n",
       "      <td>6.0</td>\n",
       "      <td>10%</td>\n",
       "      <td>0%</td>\n",
       "      <td>20%</td>\n",
       "      <td>0%</td>\n",
       "      <td>75</td>\n",
       "    </tr>\n",
       "  </tbody>\n",
       "</table>\n",
       "</div>"
      ],
      "text/plain": [
       "         Beverage_category       Beverage      Beverage_prep  Calories  \\\n",
       "0                   Coffee  Brewed Coffee              Short         3   \n",
       "1                   Coffee  Brewed Coffee               Tall         4   \n",
       "2                   Coffee  Brewed Coffee             Grande         5   \n",
       "3                   Coffee  Brewed Coffee              Venti         5   \n",
       "4  Classic Espresso Drinks    Caffè Latte  Short Nonfat Milk        70   \n",
       "\n",
       "   Total Fat (g)  Trans Fat (g)   Saturated Fat (g)   Sodium (mg)  \\\n",
       "0            0.1             0.0                0.0             0   \n",
       "1            0.1             0.0                0.0             0   \n",
       "2            0.1             0.0                0.0             0   \n",
       "3            0.1             0.0                0.0             0   \n",
       "4            0.1             0.1                0.0             5   \n",
       "\n",
       "    Total Carbohydrates (g)   Cholesterol (mg)   Dietary Fibre (g)  \\\n",
       "0                          5                 0                   0   \n",
       "1                         10                 0                   0   \n",
       "2                         10                 0                   0   \n",
       "3                         10                 0                   0   \n",
       "4                         75                10                   0   \n",
       "\n",
       "    Sugars (g)   Protein (g)  Vitamin A (% DV)  Vitamin C (% DV)  \\\n",
       "0            0            0.3                0%               0%   \n",
       "1            0            0.5                0%               0%   \n",
       "2            0            1.0                0%               0%   \n",
       "3            0            1.0                0%               0%   \n",
       "4            9            6.0               10%               0%   \n",
       "\n",
       "   Calcium (% DV)  Iron (% DV)  Caffeine (mg)  \n",
       "0               0%           0%           175  \n",
       "1               0%           0%           260  \n",
       "2               0%           0%           330  \n",
       "3               2%           0%           410  \n",
       "4              20%           0%            75  "
      ]
     },
     "execution_count": 2,
     "metadata": {},
     "output_type": "execute_result"
    }
   ],
   "source": [
    "df = pd.read_csv('starbucks_drinkMenu_expanded.csv')\n",
    "df.head()"
   ]
  },
  {
   "cell_type": "markdown",
   "metadata": {},
   "source": [
    "### Exploratory Analysis"
   ]
  },
  {
   "cell_type": "code",
   "execution_count": 3,
   "metadata": {},
   "outputs": [
    {
     "data": {
      "text/html": [
       "<div>\n",
       "<style scoped>\n",
       "    .dataframe tbody tr th:only-of-type {\n",
       "        vertical-align: middle;\n",
       "    }\n",
       "\n",
       "    .dataframe tbody tr th {\n",
       "        vertical-align: top;\n",
       "    }\n",
       "\n",
       "    .dataframe thead th {\n",
       "        text-align: right;\n",
       "    }\n",
       "</style>\n",
       "<table border=\"1\" class=\"dataframe\">\n",
       "  <thead>\n",
       "    <tr style=\"text-align: right;\">\n",
       "      <th></th>\n",
       "      <th>Calories</th>\n",
       "      <th>Trans Fat (g)</th>\n",
       "      <th>Saturated Fat (g)</th>\n",
       "      <th>Sodium (mg)</th>\n",
       "      <th>Total Carbohydrates (g)</th>\n",
       "      <th>Cholesterol (mg)</th>\n",
       "      <th>Dietary Fibre (g)</th>\n",
       "      <th>Sugars (g)</th>\n",
       "      <th>Protein (g)</th>\n",
       "    </tr>\n",
       "  </thead>\n",
       "  <tbody>\n",
       "    <tr>\n",
       "      <th>count</th>\n",
       "      <td>242.000000</td>\n",
       "      <td>242.000000</td>\n",
       "      <td>242.000000</td>\n",
       "      <td>242.000000</td>\n",
       "      <td>242.000000</td>\n",
       "      <td>242.000000</td>\n",
       "      <td>242.000000</td>\n",
       "      <td>242.000000</td>\n",
       "      <td>242.000000</td>\n",
       "    </tr>\n",
       "    <tr>\n",
       "      <th>mean</th>\n",
       "      <td>193.871901</td>\n",
       "      <td>1.307025</td>\n",
       "      <td>0.037603</td>\n",
       "      <td>6.363636</td>\n",
       "      <td>128.884298</td>\n",
       "      <td>35.991736</td>\n",
       "      <td>0.805785</td>\n",
       "      <td>32.962810</td>\n",
       "      <td>6.978512</td>\n",
       "    </tr>\n",
       "    <tr>\n",
       "      <th>std</th>\n",
       "      <td>102.863303</td>\n",
       "      <td>1.640259</td>\n",
       "      <td>0.071377</td>\n",
       "      <td>8.630257</td>\n",
       "      <td>82.303223</td>\n",
       "      <td>20.795186</td>\n",
       "      <td>1.445944</td>\n",
       "      <td>19.730199</td>\n",
       "      <td>4.871659</td>\n",
       "    </tr>\n",
       "    <tr>\n",
       "      <th>min</th>\n",
       "      <td>0.000000</td>\n",
       "      <td>0.000000</td>\n",
       "      <td>0.000000</td>\n",
       "      <td>0.000000</td>\n",
       "      <td>0.000000</td>\n",
       "      <td>0.000000</td>\n",
       "      <td>0.000000</td>\n",
       "      <td>0.000000</td>\n",
       "      <td>0.000000</td>\n",
       "    </tr>\n",
       "    <tr>\n",
       "      <th>25%</th>\n",
       "      <td>120.000000</td>\n",
       "      <td>0.100000</td>\n",
       "      <td>0.000000</td>\n",
       "      <td>0.000000</td>\n",
       "      <td>70.000000</td>\n",
       "      <td>21.000000</td>\n",
       "      <td>0.000000</td>\n",
       "      <td>18.000000</td>\n",
       "      <td>3.000000</td>\n",
       "    </tr>\n",
       "    <tr>\n",
       "      <th>50%</th>\n",
       "      <td>185.000000</td>\n",
       "      <td>0.500000</td>\n",
       "      <td>0.000000</td>\n",
       "      <td>5.000000</td>\n",
       "      <td>125.000000</td>\n",
       "      <td>34.000000</td>\n",
       "      <td>0.000000</td>\n",
       "      <td>32.000000</td>\n",
       "      <td>6.000000</td>\n",
       "    </tr>\n",
       "    <tr>\n",
       "      <th>75%</th>\n",
       "      <td>260.000000</td>\n",
       "      <td>2.000000</td>\n",
       "      <td>0.100000</td>\n",
       "      <td>10.000000</td>\n",
       "      <td>170.000000</td>\n",
       "      <td>50.750000</td>\n",
       "      <td>1.000000</td>\n",
       "      <td>43.750000</td>\n",
       "      <td>10.000000</td>\n",
       "    </tr>\n",
       "    <tr>\n",
       "      <th>max</th>\n",
       "      <td>510.000000</td>\n",
       "      <td>9.000000</td>\n",
       "      <td>0.300000</td>\n",
       "      <td>40.000000</td>\n",
       "      <td>340.000000</td>\n",
       "      <td>90.000000</td>\n",
       "      <td>8.000000</td>\n",
       "      <td>84.000000</td>\n",
       "      <td>20.000000</td>\n",
       "    </tr>\n",
       "  </tbody>\n",
       "</table>\n",
       "</div>"
      ],
      "text/plain": [
       "         Calories  Trans Fat (g)   Saturated Fat (g)   Sodium (mg)  \\\n",
       "count  242.000000      242.000000         242.000000    242.000000   \n",
       "mean   193.871901        1.307025           0.037603      6.363636   \n",
       "std    102.863303        1.640259           0.071377      8.630257   \n",
       "min      0.000000        0.000000           0.000000      0.000000   \n",
       "25%    120.000000        0.100000           0.000000      0.000000   \n",
       "50%    185.000000        0.500000           0.000000      5.000000   \n",
       "75%    260.000000        2.000000           0.100000     10.000000   \n",
       "max    510.000000        9.000000           0.300000     40.000000   \n",
       "\n",
       "        Total Carbohydrates (g)   Cholesterol (mg)   Dietary Fibre (g)  \\\n",
       "count                 242.000000        242.000000          242.000000   \n",
       "mean                  128.884298         35.991736            0.805785   \n",
       "std                    82.303223         20.795186            1.445944   \n",
       "min                     0.000000          0.000000            0.000000   \n",
       "25%                    70.000000         21.000000            0.000000   \n",
       "50%                   125.000000         34.000000            0.000000   \n",
       "75%                   170.000000         50.750000            1.000000   \n",
       "max                   340.000000         90.000000            8.000000   \n",
       "\n",
       "        Sugars (g)   Protein (g)   \n",
       "count   242.000000     242.000000  \n",
       "mean     32.962810       6.978512  \n",
       "std      19.730199       4.871659  \n",
       "min       0.000000       0.000000  \n",
       "25%      18.000000       3.000000  \n",
       "50%      32.000000       6.000000  \n",
       "75%      43.750000      10.000000  \n",
       "max      84.000000      20.000000  "
      ]
     },
     "execution_count": 3,
     "metadata": {},
     "output_type": "execute_result"
    }
   ],
   "source": [
    "df.describe()"
   ]
  },
  {
   "cell_type": "code",
   "execution_count": 4,
   "metadata": {},
   "outputs": [
    {
     "data": {
      "text/plain": [
       "(242, 18)"
      ]
     },
     "execution_count": 4,
     "metadata": {},
     "output_type": "execute_result"
    }
   ],
   "source": [
    "# Assessing shape of the data\n",
    "df.shape"
   ]
  },
  {
   "cell_type": "code",
   "execution_count": 5,
   "metadata": {},
   "outputs": [
    {
     "data": {
      "text/plain": [
       "Beverage_category             object\n",
       "Beverage                      object\n",
       "Beverage_prep                 object\n",
       "Calories                       int64\n",
       " Total Fat (g)                object\n",
       "Trans Fat (g)                float64\n",
       "Saturated Fat (g)            float64\n",
       " Sodium (mg)                   int64\n",
       " Total Carbohydrates (g)       int64\n",
       "Cholesterol (mg)               int64\n",
       " Dietary Fibre (g)             int64\n",
       " Sugars (g)                    int64\n",
       " Protein (g)                 float64\n",
       "Vitamin A (% DV)              object\n",
       "Vitamin C (% DV)              object\n",
       " Calcium (% DV)               object\n",
       "Iron (% DV)                   object\n",
       "Caffeine (mg)                 object\n",
       "dtype: object"
      ]
     },
     "execution_count": 5,
     "metadata": {},
     "output_type": "execute_result"
    }
   ],
   "source": [
    "df.dtypes"
   ]
  },
  {
   "cell_type": "code",
   "execution_count": 6,
   "metadata": {},
   "outputs": [
    {
     "name": "stdout",
     "output_type": "stream",
     "text": [
      "<class 'pandas.core.frame.DataFrame'>\n",
      "RangeIndex: 242 entries, 0 to 241\n",
      "Data columns (total 18 columns):\n",
      " #   Column                     Non-Null Count  Dtype  \n",
      "---  ------                     --------------  -----  \n",
      " 0   Beverage_category          242 non-null    object \n",
      " 1   Beverage                   242 non-null    object \n",
      " 2   Beverage_prep              242 non-null    object \n",
      " 3   Calories                   242 non-null    int64  \n",
      " 4    Total Fat (g)             242 non-null    object \n",
      " 5   Trans Fat (g)              242 non-null    float64\n",
      " 6   Saturated Fat (g)          242 non-null    float64\n",
      " 7    Sodium (mg)               242 non-null    int64  \n",
      " 8    Total Carbohydrates (g)   242 non-null    int64  \n",
      " 9   Cholesterol (mg)           242 non-null    int64  \n",
      " 10   Dietary Fibre (g)         242 non-null    int64  \n",
      " 11   Sugars (g)                242 non-null    int64  \n",
      " 12   Protein (g)               242 non-null    float64\n",
      " 13  Vitamin A (% DV)           242 non-null    object \n",
      " 14  Vitamin C (% DV)           242 non-null    object \n",
      " 15   Calcium (% DV)            242 non-null    object \n",
      " 16  Iron (% DV)                242 non-null    object \n",
      " 17  Caffeine (mg)              241 non-null    object \n",
      "dtypes: float64(3), int64(6), object(9)\n",
      "memory usage: 34.2+ KB\n"
     ]
    }
   ],
   "source": [
    "df.info()"
   ]
  },
  {
   "cell_type": "code",
   "execution_count": 7,
   "metadata": {},
   "outputs": [
    {
     "data": {
      "text/plain": [
       "Beverage_category            0\n",
       "Beverage                     0\n",
       "Beverage_prep                0\n",
       "Calories                     0\n",
       " Total Fat (g)               0\n",
       "Trans Fat (g)                0\n",
       "Saturated Fat (g)            0\n",
       " Sodium (mg)                 0\n",
       " Total Carbohydrates (g)     0\n",
       "Cholesterol (mg)             0\n",
       " Dietary Fibre (g)           0\n",
       " Sugars (g)                  0\n",
       " Protein (g)                 0\n",
       "Vitamin A (% DV)             0\n",
       "Vitamin C (% DV)             0\n",
       " Calcium (% DV)              0\n",
       "Iron (% DV)                  0\n",
       "Caffeine (mg)                1\n",
       "dtype: int64"
      ]
     },
     "execution_count": 7,
     "metadata": {},
     "output_type": "execute_result"
    }
   ],
   "source": [
    "#check for the null values in each column\n",
    "df.isnull().sum()"
   ]
  },
  {
   "cell_type": "markdown",
   "metadata": {},
   "source": [
    "### Data validation and cleaning"
   ]
  },
  {
   "cell_type": "code",
   "execution_count": 8,
   "metadata": {},
   "outputs": [
    {
     "name": "stdout",
     "output_type": "stream",
     "text": [
      "\u001b[1mBeverage_category \n",
      "\u001b[0m ['Coffee' 'Classic Espresso Drinks' 'Signature Espresso Drinks'\n",
      " 'Tazo® Tea Drinks' 'Shaken Iced Beverages' 'Smoothies'\n",
      " 'Frappuccino® Blended Coffee' 'Frappuccino® Light Blended Coffee'\n",
      " 'Frappuccino® Blended Crème']\n",
      "\n",
      "\n",
      "\u001b[1mBeverage \n",
      "\u001b[0m ['Brewed Coffee' 'Caffè Latte' 'Caffè Mocha (Without Whipped Cream)'\n",
      " 'Vanilla Latte (Or Other Flavoured Latte)' 'Caffè Americano' 'Cappuccino'\n",
      " 'Espresso' 'Skinny Latte (Any Flavour)' 'Caramel Macchiato'\n",
      " 'White Chocolate Mocha (Without Whipped Cream)'\n",
      " 'Hot Chocolate (Without Whipped Cream)'\n",
      " 'Caramel Apple Spice (Without Whipped Cream)' 'Tazo® Tea'\n",
      " 'Tazo® Chai Tea Latte' 'Tazo® Green Tea Latte'\n",
      " 'Tazo® Full-Leaf Tea Latte'\n",
      " 'Tazo® Full-Leaf Red Tea Latte (Vanilla Rooibos)'\n",
      " 'Iced Brewed Coffee (With Classic Syrup)'\n",
      " 'Iced Brewed Coffee (With Milk & Classic Syrup)'\n",
      " 'Shaken Iced Tazo® Tea (With Classic Syrup)'\n",
      " 'Shaken Iced Tazo® Tea Lemonade (With Classic Syrup)'\n",
      " 'Banana Chocolate Smoothie' 'Orange Mango Banana Smoothie'\n",
      " 'Strawberry Banana Smoothie' 'Coffee' 'Mocha (Without Whipped Cream)'\n",
      " 'Caramel (Without Whipped Cream)' 'Java Chip (Without Whipped Cream)'\n",
      " 'Mocha' 'Caramel' 'Java Chip'\n",
      " 'Strawberries & Crème (Without Whipped Cream)'\n",
      " 'Vanilla Bean (Without Whipped Cream)']\n",
      "\n",
      "\n",
      "\u001b[1mBeverage_prep \n",
      "\u001b[0m ['Short' 'Tall' 'Grande' 'Venti' 'Short Nonfat Milk' '2% Milk' 'Soymilk'\n",
      " 'Tall Nonfat Milk' 'Grande Nonfat Milk' 'Venti Nonfat Milk' 'Solo'\n",
      " 'Doppio' 'Whole Milk']\n",
      "\n",
      "\n",
      "\u001b[1mCalories \n",
      "\u001b[0m [  3   4   5  70 100 150 110 130 190 170 240 200 180 220 260 230 280 340\n",
      " 290 160 250 210 320 270  10  15  25  50  80  60  90 120 140 300 310 350\n",
      " 400 370 450 510 460 380 330 360   0 390 420 430]\n",
      "\n",
      "\n",
      "\u001b[1m Total Fat (g) \n",
      "\u001b[0m ['0.1' '3.5' '2.5' '0.2' '6' '4.5' '0.3' '7' '5' '0.4' '9' '1.5' '4' '2'\n",
      " '8' '3' '11' '0' '1' '10' '15' '13' '0.5' '3 2']\n",
      "\n",
      "\n",
      "\u001b[1mTrans Fat (g)  \n",
      "\u001b[0m [0.  0.1 2.  0.4 0.2 3.  0.5 3.5 0.3 4.5 1.  1.5 6.  2.5 7.  5.  9.  4. ]\n",
      "\n",
      "\n",
      "\u001b[1mSaturated Fat (g) \n",
      "\u001b[0m [0.  0.1 0.2 0.3]\n",
      "\n",
      "\n",
      "\u001b[1m Sodium (mg) \n",
      "\u001b[0m [ 0  5 15 25 30 10 35 20 40]\n",
      "\n",
      "\n",
      "\u001b[1m Total Carbohydrates (g)  \n",
      "\u001b[0m [  5  10  75  85  65 120 135 105 150 170 130 190 220  60  70  55 100 115\n",
      " 125 140 160 180  80 110  95 200  15  40  90   0   1 240 250 310 330 290\n",
      "  20  25  50  45 230   4  30  35 210 300 340 270 280 320 260]\n",
      "\n",
      "\n",
      "\u001b[1mCholesterol (mg) \n",
      "\u001b[0m [ 0 10  6 15 19 13 25 24 16 21 32 28 43 42 37 54 53 47 18 23 31 46 39  1\n",
      "  2  3  4  8  9  7 12 11 14 17 35 34 29 36 61 56 78 77 70 26 48 41 63 55\n",
      " 89 22 20 45 57 51 50 73 72 64 27 38 33 49 58 68 40 59 80 60 75 67 65 90\n",
      " 88 44 30]\n",
      "\n",
      "\n",
      "\u001b[1m Dietary Fibre (g) \n",
      "\u001b[0m [0 1 2 3 4 7 6 8]\n",
      "\n",
      "\n",
      "\u001b[1m Sugars (g) \n",
      "\u001b[0m [ 0  9  4 14  6 18 17  8 23 22 11 13 27 26 20 34 44 43 33 35 45  7  3 10\n",
      "  5 16 21 15 24 32 41 40 31 29 25 39 58 51 74 64 55 54 49 65 83 28 42 37\n",
      " 53 46 56 71 19 30 38 36 50 47 69 66 76 73 59 77 62 60 84 80 52 68]\n",
      "\n",
      "\n",
      "\u001b[1m Protein (g)  \n",
      "\u001b[0m [ 0.3  0.5  1.   6.   5.  10.   8.  13.  12.  16.   7.   9.  11.  17.\n",
      " 14.  15.   0.4  3.   4.  19.  18.   0.   0.2  2.   0.1 20. ]\n",
      "\n",
      "\n",
      "\u001b[1mVitamin A (% DV)  \n",
      "\u001b[0m ['0%' '10%' '6%' '15%' '20%' '30%' '25%' '8%' '4%' '2%' '50%']\n",
      "\n",
      "\n",
      "\u001b[1mVitamin C (% DV) \n",
      "\u001b[0m ['0%' '2%' '4%' '6%' '10%' '15%' '20%' '80%' '100%' '8%']\n",
      "\n",
      "\n",
      "\u001b[1m Calcium (% DV)  \n",
      "\u001b[0m ['0%' '2%' '20%' '30%' '40%' '50%' '15%' '25%' '35%' '45%' '10%' '60%'\n",
      " '6%' '8%']\n",
      "\n",
      "\n",
      "\u001b[1mIron (% DV)  \n",
      "\u001b[0m ['0%' '8%' '15%' '25%' '10%' '20%' '30%' '40%' '50%' '6%' '2%' '4%'\n",
      " '0.00%' '6.00%' '8.00%' '10.00%' '15.00%' '35%']\n",
      "\n",
      "\n",
      "\u001b[1mCaffeine (mg) \n",
      "\u001b[0m ['175' '260' '330' '410' '75' '150' '85' '95' '180' '225' '300' '10' '20'\n",
      " '25' '30' '0' 'Varies' '50' '70' '120' '55' '80' '110' 'varies' '165'\n",
      " '235' '90' nan '125' '170' '15' '130' '140' '100' '145' '65' '105']\n",
      "\n",
      "\n"
     ]
    }
   ],
   "source": [
    "for i in df.columns:\n",
    "    print ('\\033[1m'+i,\"\\n\\033[0m\" ,df[i].unique())\n",
    "    print('\\n')"
   ]
  },
  {
   "cell_type": "code",
   "execution_count": 9,
   "metadata": {},
   "outputs": [
    {
     "data": {
      "text/plain": [
       "array(['175', '260', '330', '410', '75', '150', '85', '95', '180', '225',\n",
       "       '300', '10', '20', '25', '30', '0', 'Varies', '50', '70', '120',\n",
       "       '55', '80', '110', 'varies', '165', '235', '90', nan, '125', '170',\n",
       "       '15', '130', '140', '100', '145', '65', '105'], dtype=object)"
      ]
     },
     "execution_count": 9,
     "metadata": {},
     "output_type": "execute_result"
    }
   ],
   "source": [
    "df['Caffeine (mg)'].unique()"
   ]
  },
  {
   "cell_type": "markdown",
   "metadata": {},
   "source": [
    "We notice there is a text entry - `Varies`, `varies` replacing all such values to null"
   ]
  },
  {
   "cell_type": "code",
   "execution_count": 10,
   "metadata": {},
   "outputs": [],
   "source": [
    "df['Caffeine (mg)'] = df['Caffeine (mg)'].replace('Varies', np.NaN).replace('varies', np.NaN)"
   ]
  },
  {
   "cell_type": "code",
   "execution_count": 11,
   "metadata": {},
   "outputs": [
    {
     "data": {
      "text/plain": [
       "array(['175', '260', '330', '410', '75', '150', '85', '95', '180', '225',\n",
       "       '300', '10', '20', '25', '30', '0', nan, '50', '70', '120', '55',\n",
       "       '80', '110', '165', '235', '90', '125', '170', '15', '130', '140',\n",
       "       '100', '145', '65', '105'], dtype=object)"
      ]
     },
     "execution_count": 11,
     "metadata": {},
     "output_type": "execute_result"
    }
   ],
   "source": [
    "df['Caffeine (mg)'].unique()"
   ]
  },
  {
   "cell_type": "code",
   "execution_count": 12,
   "metadata": {},
   "outputs": [
    {
     "data": {
      "text/plain": [
       "array(['0.1', '3.5', '2.5', '0.2', '6', '4.5', '0.3', '7', '5', '0.4',\n",
       "       '9', '1.5', '4', '2', '8', '3', '11', '0', '1', '10', '15', '13',\n",
       "       '0.5', '3 2'], dtype=object)"
      ]
     },
     "execution_count": 12,
     "metadata": {},
     "output_type": "execute_result"
    }
   ],
   "source": [
    "df[' Total Fat (g)'].unique()"
   ]
  },
  {
   "cell_type": "markdown",
   "metadata": {},
   "source": [
    "We noticed there is a space in one of the values"
   ]
  },
  {
   "cell_type": "code",
   "execution_count": 13,
   "metadata": {},
   "outputs": [],
   "source": [
    "df[' Total Fat (g)'] = df[' Total Fat (g)'].replace('3 2', '3.2')"
   ]
  },
  {
   "cell_type": "code",
   "execution_count": 14,
   "metadata": {},
   "outputs": [
    {
     "data": {
      "text/plain": [
       "array(['0.1', '3.5', '2.5', '0.2', '6', '4.5', '0.3', '7', '5', '0.4',\n",
       "       '9', '1.5', '4', '2', '8', '3', '11', '0', '1', '10', '15', '13',\n",
       "       '0.5', '3.2'], dtype=object)"
      ]
     },
     "execution_count": 14,
     "metadata": {},
     "output_type": "execute_result"
    }
   ],
   "source": [
    "df[' Total Fat (g)'].unique()"
   ]
  },
  {
   "cell_type": "markdown",
   "metadata": {},
   "source": [
    "### Data distributions"
   ]
  },
  {
   "cell_type": "code",
   "execution_count": 15,
   "metadata": {},
   "outputs": [
    {
     "data": {
      "text/plain": [
       "Index(['Beverage_category', 'Beverage', 'Beverage_prep', 'Calories',\n",
       "       ' Total Fat (g)', 'Trans Fat (g) ', 'Saturated Fat (g)', ' Sodium (mg)',\n",
       "       ' Total Carbohydrates (g) ', 'Cholesterol (mg)', ' Dietary Fibre (g)',\n",
       "       ' Sugars (g)', ' Protein (g) ', 'Vitamin A (% DV) ', 'Vitamin C (% DV)',\n",
       "       ' Calcium (% DV) ', 'Iron (% DV) ', 'Caffeine (mg)'],\n",
       "      dtype='object')"
      ]
     },
     "execution_count": 15,
     "metadata": {},
     "output_type": "execute_result"
    }
   ],
   "source": [
    "df.columns"
   ]
  },
  {
   "cell_type": "code",
   "execution_count": 16,
   "metadata": {},
   "outputs": [
    {
     "data": {
      "text/html": [
       "<div>\n",
       "<style scoped>\n",
       "    .dataframe tbody tr th:only-of-type {\n",
       "        vertical-align: middle;\n",
       "    }\n",
       "\n",
       "    .dataframe tbody tr th {\n",
       "        vertical-align: top;\n",
       "    }\n",
       "\n",
       "    .dataframe thead th {\n",
       "        text-align: right;\n",
       "    }\n",
       "</style>\n",
       "<table border=\"1\" class=\"dataframe\">\n",
       "  <thead>\n",
       "    <tr style=\"text-align: right;\">\n",
       "      <th></th>\n",
       "      <th>Calories</th>\n",
       "      <th>Trans Fat (g)</th>\n",
       "      <th>Saturated Fat (g)</th>\n",
       "      <th>Sodium (mg)</th>\n",
       "      <th>Total Carbohydrates (g)</th>\n",
       "      <th>Cholesterol (mg)</th>\n",
       "      <th>Dietary Fibre (g)</th>\n",
       "      <th>Sugars (g)</th>\n",
       "      <th>Protein (g)</th>\n",
       "    </tr>\n",
       "  </thead>\n",
       "  <tbody>\n",
       "    <tr>\n",
       "      <th>count</th>\n",
       "      <td>242.000000</td>\n",
       "      <td>242.000000</td>\n",
       "      <td>242.000000</td>\n",
       "      <td>242.000000</td>\n",
       "      <td>242.000000</td>\n",
       "      <td>242.000000</td>\n",
       "      <td>242.000000</td>\n",
       "      <td>242.000000</td>\n",
       "      <td>242.000000</td>\n",
       "    </tr>\n",
       "    <tr>\n",
       "      <th>mean</th>\n",
       "      <td>193.871901</td>\n",
       "      <td>1.307025</td>\n",
       "      <td>0.037603</td>\n",
       "      <td>6.363636</td>\n",
       "      <td>128.884298</td>\n",
       "      <td>35.991736</td>\n",
       "      <td>0.805785</td>\n",
       "      <td>32.962810</td>\n",
       "      <td>6.978512</td>\n",
       "    </tr>\n",
       "    <tr>\n",
       "      <th>std</th>\n",
       "      <td>102.863303</td>\n",
       "      <td>1.640259</td>\n",
       "      <td>0.071377</td>\n",
       "      <td>8.630257</td>\n",
       "      <td>82.303223</td>\n",
       "      <td>20.795186</td>\n",
       "      <td>1.445944</td>\n",
       "      <td>19.730199</td>\n",
       "      <td>4.871659</td>\n",
       "    </tr>\n",
       "    <tr>\n",
       "      <th>min</th>\n",
       "      <td>0.000000</td>\n",
       "      <td>0.000000</td>\n",
       "      <td>0.000000</td>\n",
       "      <td>0.000000</td>\n",
       "      <td>0.000000</td>\n",
       "      <td>0.000000</td>\n",
       "      <td>0.000000</td>\n",
       "      <td>0.000000</td>\n",
       "      <td>0.000000</td>\n",
       "    </tr>\n",
       "    <tr>\n",
       "      <th>25%</th>\n",
       "      <td>120.000000</td>\n",
       "      <td>0.100000</td>\n",
       "      <td>0.000000</td>\n",
       "      <td>0.000000</td>\n",
       "      <td>70.000000</td>\n",
       "      <td>21.000000</td>\n",
       "      <td>0.000000</td>\n",
       "      <td>18.000000</td>\n",
       "      <td>3.000000</td>\n",
       "    </tr>\n",
       "    <tr>\n",
       "      <th>50%</th>\n",
       "      <td>185.000000</td>\n",
       "      <td>0.500000</td>\n",
       "      <td>0.000000</td>\n",
       "      <td>5.000000</td>\n",
       "      <td>125.000000</td>\n",
       "      <td>34.000000</td>\n",
       "      <td>0.000000</td>\n",
       "      <td>32.000000</td>\n",
       "      <td>6.000000</td>\n",
       "    </tr>\n",
       "    <tr>\n",
       "      <th>75%</th>\n",
       "      <td>260.000000</td>\n",
       "      <td>2.000000</td>\n",
       "      <td>0.100000</td>\n",
       "      <td>10.000000</td>\n",
       "      <td>170.000000</td>\n",
       "      <td>50.750000</td>\n",
       "      <td>1.000000</td>\n",
       "      <td>43.750000</td>\n",
       "      <td>10.000000</td>\n",
       "    </tr>\n",
       "    <tr>\n",
       "      <th>max</th>\n",
       "      <td>510.000000</td>\n",
       "      <td>9.000000</td>\n",
       "      <td>0.300000</td>\n",
       "      <td>40.000000</td>\n",
       "      <td>340.000000</td>\n",
       "      <td>90.000000</td>\n",
       "      <td>8.000000</td>\n",
       "      <td>84.000000</td>\n",
       "      <td>20.000000</td>\n",
       "    </tr>\n",
       "  </tbody>\n",
       "</table>\n",
       "</div>"
      ],
      "text/plain": [
       "         Calories  Trans Fat (g)   Saturated Fat (g)   Sodium (mg)  \\\n",
       "count  242.000000      242.000000         242.000000    242.000000   \n",
       "mean   193.871901        1.307025           0.037603      6.363636   \n",
       "std    102.863303        1.640259           0.071377      8.630257   \n",
       "min      0.000000        0.000000           0.000000      0.000000   \n",
       "25%    120.000000        0.100000           0.000000      0.000000   \n",
       "50%    185.000000        0.500000           0.000000      5.000000   \n",
       "75%    260.000000        2.000000           0.100000     10.000000   \n",
       "max    510.000000        9.000000           0.300000     40.000000   \n",
       "\n",
       "        Total Carbohydrates (g)   Cholesterol (mg)   Dietary Fibre (g)  \\\n",
       "count                 242.000000        242.000000          242.000000   \n",
       "mean                  128.884298         35.991736            0.805785   \n",
       "std                    82.303223         20.795186            1.445944   \n",
       "min                     0.000000          0.000000            0.000000   \n",
       "25%                    70.000000         21.000000            0.000000   \n",
       "50%                   125.000000         34.000000            0.000000   \n",
       "75%                   170.000000         50.750000            1.000000   \n",
       "max                   340.000000         90.000000            8.000000   \n",
       "\n",
       "        Sugars (g)   Protein (g)   \n",
       "count   242.000000     242.000000  \n",
       "mean     32.962810       6.978512  \n",
       "std      19.730199       4.871659  \n",
       "min       0.000000       0.000000  \n",
       "25%      18.000000       3.000000  \n",
       "50%      32.000000       6.000000  \n",
       "75%      43.750000      10.000000  \n",
       "max      84.000000      20.000000  "
      ]
     },
     "execution_count": 16,
     "metadata": {},
     "output_type": "execute_result"
    }
   ],
   "source": [
    "df.describe()"
   ]
  },
  {
   "cell_type": "code",
   "execution_count": 17,
   "metadata": {},
   "outputs": [
    {
     "data": {
      "text/plain": [
       "Text(0, 0.5, 'Count')"
      ]
     },
     "execution_count": 17,
     "metadata": {},
     "output_type": "execute_result"
    },
    {
     "data": {
      "image/png": "[encoded data removed]",
      "text/plain": [
       "<Figure size 432x288 with 1 Axes>"
      ]
     },
     "metadata": {
      "needs_background": "light"
     },
     "output_type": "display_data"
    }
   ],
   "source": [
    "trans_fat = df['Trans Fat (g) ']\n",
    "sns.distplot(trans_fat, kde=True, bins=9, color='blue').set_title('Trans Fat in Starbucks Items')\n",
    "plt.ylabel('Count')"
   ]
  },
  {
   "cell_type": "code",
   "execution_count": 18,
   "metadata": {},
   "outputs": [
    {
     "data": {
      "text/plain": [
       "Text(0, 0.5, 'Count')"
      ]
     },
     "execution_count": 18,
     "metadata": {},
     "output_type": "execute_result"
    },
    {
     "data": {
      "image/png": "[encoded data removed]",
      "text/plain": [
       "<Figure size 432x288 with 1 Axes>"
      ]
     },
     "metadata": {
      "needs_background": "light"
     },
     "output_type": "display_data"
    }
   ],
   "source": [
    "saturated_fat = df['Saturated Fat (g)']\n",
    "sns.distplot(saturated_fat, kde=True, bins=9, color='blue').set_title('Saturated Fat in Starbucks Items')\n",
    "plt.ylabel('Count')"
   ]
  },
  {
   "cell_type": "code",
   "execution_count": 19,
   "metadata": {},
   "outputs": [
    {
     "data": {
      "text/plain": [
       "Text(0, 0.5, 'Count')"
      ]
     },
     "execution_count": 19,
     "metadata": {},
     "output_type": "execute_result"
    },
    {
     "data": {
      "image/png": "[encoded data removed]",
      "text/plain": [
       "<Figure size 432x288 with 1 Axes>"
      ]
     },
     "metadata": {
      "needs_background": "light"
     },
     "output_type": "display_data"
    }
   ],
   "source": [
    "sodium = df[' Sodium (mg)']\n",
    "sns.distplot(sodium, kde=True, bins=9, color='blue').set_title('Sodium in Starbucks Items')\n",
    "plt.ylabel('Count')"
   ]
  },
  {
   "cell_type": "code",
   "execution_count": 20,
   "metadata": {},
   "outputs": [
    {
     "data": {
      "text/plain": [
       "Text(0, 0.5, 'Count')"
      ]
     },
     "execution_count": 20,
     "metadata": {},
     "output_type": "execute_result"
    },
    {
     "data": {
      "image/png": "[encoded data removed]",
      "text/plain": [
       "<Figure size 432x288 with 1 Axes>"
      ]
     },
     "metadata": {
      "needs_background": "light"
     },
     "output_type": "display_data"
    }
   ],
   "source": [
    "carbohydrates = df[' Total Carbohydrates (g) ']\n",
    "sns.distplot(carbohydrates, kde=True, bins=9, color='blue').set_title('Carbohydrates in Starbucks Items')\n",
    "plt.ylabel('Count')"
   ]
  },
  {
   "cell_type": "code",
   "execution_count": 21,
   "metadata": {},
   "outputs": [
    {
     "data": {
      "text/plain": [
       "Text(0, 0.5, 'Count')"
      ]
     },
     "execution_count": 21,
     "metadata": {},
     "output_type": "execute_result"
    },
    {
     "data": {
      "image/png": "[encoded data removed]",
      "text/plain": [
       "<Figure size 432x288 with 1 Axes>"
      ]
     },
     "metadata": {
      "needs_background": "light"
     },
     "output_type": "display_data"
    }
   ],
   "source": [
    "cholesterol = df['Cholesterol (mg)']\n",
    "sns.distplot(cholesterol, kde=True, bins=9, color='blue').set_title('Cholesterol in Starbucks Items')\n",
    "plt.ylabel('Count')"
   ]
  },
  {
   "cell_type": "code",
   "execution_count": 22,
   "metadata": {},
   "outputs": [
    {
     "data": {
      "text/plain": [
       "Text(0, 0.5, 'Count')"
      ]
     },
     "execution_count": 22,
     "metadata": {},
     "output_type": "execute_result"
    },
    {
     "data": {
      "image/png": "[encoded data removed]",
      "text/plain": [
       "<Figure size 432x288 with 1 Axes>"
      ]
     },
     "metadata": {
      "needs_background": "light"
     },
     "output_type": "display_data"
    }
   ],
   "source": [
    "dietary_fibre = df[' Dietary Fibre (g)']\n",
    "sns.distplot(dietary_fibre, kde=True, bins=9, color='blue').set_title('Dietary Fibre in Starbucks Items')\n",
    "plt.ylabel('Count')"
   ]
  },
  {
   "cell_type": "code",
   "execution_count": 23,
   "metadata": {},
   "outputs": [
    {
     "data": {
      "text/plain": [
       "Text(0, 0.5, 'Count')"
      ]
     },
     "execution_count": 23,
     "metadata": {},
     "output_type": "execute_result"
    },
    {
     "data": {
      "image/png": "[encoded data removed]",
      "text/plain": [
       "<Figure size 432x288 with 1 Axes>"
      ]
     },
     "metadata": {
      "needs_background": "light"
     },
     "output_type": "display_data"
    }
   ],
   "source": [
    "sugar = df[' Sugars (g)']\n",
    "sns.distplot(sugar, kde=True, bins=9, color='blue').set_title('Sugar in Starbucks Items')\n",
    "plt.ylabel('Count')"
   ]
  },
  {
   "cell_type": "code",
   "execution_count": 24,
   "metadata": {},
   "outputs": [
    {
     "data": {
      "text/plain": [
       "Text(0, 0.5, 'Count')"
      ]
     },
     "execution_count": 24,
     "metadata": {},
     "output_type": "execute_result"
    },
    {
     "data": {
      "image/png": "[encoded data removed]",
      "text/plain": [
       "<Figure size 432x288 with 1 Axes>"
      ]
     },
     "metadata": {
      "needs_background": "light"
     },
     "output_type": "display_data"
    }
   ],
   "source": [
    "protein = df[' Protein (g) ']\n",
    "sns.distplot(protein, kde=True, bins=9, color='blue').set_title('Protein in Starbucks Items')\n",
    "plt.ylabel('Count')"
   ]
  },
  {
   "cell_type": "code",
   "execution_count": 25,
   "metadata": {},
   "outputs": [
    {
     "data": {
      "text/plain": [
       "<matplotlib.axes._subplots.AxesSubplot at 0x2ca3bd2ec88>"
      ]
     },
     "execution_count": 25,
     "metadata": {},
     "output_type": "execute_result"
    },
    {
     "data": {
      "image/png": "[encoded data removed]",
      "text/plain": [
       "<Figure size 432x288 with 1 Axes>"
      ]
     },
     "metadata": {
      "needs_background": "light"
     },
     "output_type": "display_data"
    }
   ],
   "source": [
    "sns.countplot(y='Beverage_prep', data=df)"
   ]
  },
  {
   "cell_type": "markdown",
   "metadata": {},
   "source": [
    "From above, we can infer that different milk options results in different calories."
   ]
  },
  {
   "cell_type": "code",
   "execution_count": 26,
   "metadata": {},
   "outputs": [
    {
     "data": {
      "text/plain": [
       "<matplotlib.axes._subplots.AxesSubplot at 0x2ca3dad5308>"
      ]
     },
     "execution_count": 26,
     "metadata": {},
     "output_type": "execute_result"
    },
    {
     "data": {
      "image/png": "[encoded data removed]",
      "text/plain": [
       "<Figure size 432x288 with 1 Axes>"
      ]
     },
     "metadata": {
      "needs_background": "light"
     },
     "output_type": "display_data"
    }
   ],
   "source": [
    "sns.barplot(x = 'Calories' , y='Beverage_category', data=df)"
   ]
  },
  {
   "cell_type": "markdown",
   "metadata": {},
   "source": [
    "The above chart gives us a sense about which type of drink has relatively lower or higher level of calories"
   ]
  },
  {
   "cell_type": "code",
   "execution_count": 27,
   "metadata": {
    "scrolled": true
   },
   "outputs": [
    {
     "data": {
      "text/plain": [
       "Beverage_category\n",
       "Classic Espresso Drinks              58\n",
       "Tazo® Tea Drinks                     52\n",
       "Signature Espresso Drinks            40\n",
       "Frappuccino® Blended Coffee          36\n",
       "Shaken Iced Beverages                18\n",
       "Frappuccino® Blended Crème           13\n",
       "Frappuccino® Light Blended Coffee    12\n",
       "Smoothies                             9\n",
       "Coffee                                4\n",
       "dtype: int64"
      ]
     },
     "execution_count": 27,
     "metadata": {},
     "output_type": "execute_result"
    }
   ],
   "source": [
    "df.groupby('Beverage_category').size().sort_values(ascending=False)"
   ]
  },
  {
   "cell_type": "markdown",
   "metadata": {},
   "source": [
    "### Correlation Analysis"
   ]
  },
  {
   "cell_type": "code",
   "execution_count": 28,
   "metadata": {
    "scrolled": true
   },
   "outputs": [
    {
     "data": {
      "text/html": [
       "<div>\n",
       "<style scoped>\n",
       "    .dataframe tbody tr th:only-of-type {\n",
       "        vertical-align: middle;\n",
       "    }\n",
       "\n",
       "    .dataframe tbody tr th {\n",
       "        vertical-align: top;\n",
       "    }\n",
       "\n",
       "    .dataframe thead th {\n",
       "        text-align: right;\n",
       "    }\n",
       "</style>\n",
       "<table border=\"1\" class=\"dataframe\">\n",
       "  <thead>\n",
       "    <tr style=\"text-align: right;\">\n",
       "      <th></th>\n",
       "      <th>Calories</th>\n",
       "      <th>Trans Fat (g)</th>\n",
       "      <th>Saturated Fat (g)</th>\n",
       "      <th>Sodium (mg)</th>\n",
       "      <th>Total Carbohydrates (g)</th>\n",
       "      <th>Cholesterol (mg)</th>\n",
       "      <th>Dietary Fibre (g)</th>\n",
       "      <th>Sugars (g)</th>\n",
       "      <th>Protein (g)</th>\n",
       "    </tr>\n",
       "  </thead>\n",
       "  <tbody>\n",
       "    <tr>\n",
       "      <th>Calories</th>\n",
       "      <td>1.000000</td>\n",
       "      <td>0.642818</td>\n",
       "      <td>0.331047</td>\n",
       "      <td>0.387892</td>\n",
       "      <td>0.795037</td>\n",
       "      <td>0.940034</td>\n",
       "      <td>0.384292</td>\n",
       "      <td>0.909675</td>\n",
       "      <td>0.578453</td>\n",
       "    </tr>\n",
       "    <tr>\n",
       "      <th>Trans Fat (g)</th>\n",
       "      <td>0.642818</td>\n",
       "      <td>1.000000</td>\n",
       "      <td>0.694871</td>\n",
       "      <td>0.707794</td>\n",
       "      <td>0.524176</td>\n",
       "      <td>0.439811</td>\n",
       "      <td>0.131267</td>\n",
       "      <td>0.419887</td>\n",
       "      <td>0.496317</td>\n",
       "    </tr>\n",
       "    <tr>\n",
       "      <th>Saturated Fat (g)</th>\n",
       "      <td>0.331047</td>\n",
       "      <td>0.694871</td>\n",
       "      <td>1.000000</td>\n",
       "      <td>0.920077</td>\n",
       "      <td>0.238142</td>\n",
       "      <td>0.161791</td>\n",
       "      <td>-0.093783</td>\n",
       "      <td>0.179255</td>\n",
       "      <td>0.287532</td>\n",
       "    </tr>\n",
       "    <tr>\n",
       "      <th>Sodium (mg)</th>\n",
       "      <td>0.387892</td>\n",
       "      <td>0.707794</td>\n",
       "      <td>0.920077</td>\n",
       "      <td>1.000000</td>\n",
       "      <td>0.290295</td>\n",
       "      <td>0.199477</td>\n",
       "      <td>-0.060154</td>\n",
       "      <td>0.205969</td>\n",
       "      <td>0.496233</td>\n",
       "    </tr>\n",
       "    <tr>\n",
       "      <th>Total Carbohydrates (g)</th>\n",
       "      <td>0.795037</td>\n",
       "      <td>0.524176</td>\n",
       "      <td>0.238142</td>\n",
       "      <td>0.290295</td>\n",
       "      <td>1.000000</td>\n",
       "      <td>0.766654</td>\n",
       "      <td>0.173378</td>\n",
       "      <td>0.771407</td>\n",
       "      <td>0.410629</td>\n",
       "    </tr>\n",
       "    <tr>\n",
       "      <th>Cholesterol (mg)</th>\n",
       "      <td>0.940034</td>\n",
       "      <td>0.439811</td>\n",
       "      <td>0.161791</td>\n",
       "      <td>0.199477</td>\n",
       "      <td>0.766654</td>\n",
       "      <td>1.000000</td>\n",
       "      <td>0.342040</td>\n",
       "      <td>0.984196</td>\n",
       "      <td>0.360449</td>\n",
       "    </tr>\n",
       "    <tr>\n",
       "      <th>Dietary Fibre (g)</th>\n",
       "      <td>0.384292</td>\n",
       "      <td>0.131267</td>\n",
       "      <td>-0.093783</td>\n",
       "      <td>-0.060154</td>\n",
       "      <td>0.173378</td>\n",
       "      <td>0.342040</td>\n",
       "      <td>1.000000</td>\n",
       "      <td>0.184171</td>\n",
       "      <td>0.540274</td>\n",
       "    </tr>\n",
       "    <tr>\n",
       "      <th>Sugars (g)</th>\n",
       "      <td>0.909675</td>\n",
       "      <td>0.419887</td>\n",
       "      <td>0.179255</td>\n",
       "      <td>0.205969</td>\n",
       "      <td>0.771407</td>\n",
       "      <td>0.984196</td>\n",
       "      <td>0.184171</td>\n",
       "      <td>1.000000</td>\n",
       "      <td>0.263061</td>\n",
       "    </tr>\n",
       "    <tr>\n",
       "      <th>Protein (g)</th>\n",
       "      <td>0.578453</td>\n",
       "      <td>0.496317</td>\n",
       "      <td>0.287532</td>\n",
       "      <td>0.496233</td>\n",
       "      <td>0.410629</td>\n",
       "      <td>0.360449</td>\n",
       "      <td>0.540274</td>\n",
       "      <td>0.263061</td>\n",
       "      <td>1.000000</td>\n",
       "    </tr>\n",
       "  </tbody>\n",
       "</table>\n",
       "</div>"
      ],
      "text/plain": [
       "                           Calories  Trans Fat (g)   Saturated Fat (g)  \\\n",
       "Calories                   1.000000        0.642818           0.331047   \n",
       "Trans Fat (g)              0.642818        1.000000           0.694871   \n",
       "Saturated Fat (g)          0.331047        0.694871           1.000000   \n",
       " Sodium (mg)               0.387892        0.707794           0.920077   \n",
       " Total Carbohydrates (g)   0.795037        0.524176           0.238142   \n",
       "Cholesterol (mg)           0.940034        0.439811           0.161791   \n",
       " Dietary Fibre (g)         0.384292        0.131267          -0.093783   \n",
       " Sugars (g)                0.909675        0.419887           0.179255   \n",
       " Protein (g)               0.578453        0.496317           0.287532   \n",
       "\n",
       "                            Sodium (mg)   Total Carbohydrates (g)   \\\n",
       "Calories                       0.387892                   0.795037   \n",
       "Trans Fat (g)                  0.707794                   0.524176   \n",
       "Saturated Fat (g)              0.920077                   0.238142   \n",
       " Sodium (mg)                   1.000000                   0.290295   \n",
       " Total Carbohydrates (g)       0.290295                   1.000000   \n",
       "Cholesterol (mg)               0.199477                   0.766654   \n",
       " Dietary Fibre (g)            -0.060154                   0.173378   \n",
       " Sugars (g)                    0.205969                   0.771407   \n",
       " Protein (g)                   0.496233                   0.410629   \n",
       "\n",
       "                           Cholesterol (mg)   Dietary Fibre (g)   Sugars (g)  \\\n",
       "Calories                           0.940034            0.384292     0.909675   \n",
       "Trans Fat (g)                      0.439811            0.131267     0.419887   \n",
       "Saturated Fat (g)                  0.161791           -0.093783     0.179255   \n",
       " Sodium (mg)                       0.199477           -0.060154     0.205969   \n",
       " Total Carbohydrates (g)           0.766654            0.173378     0.771407   \n",
       "Cholesterol (mg)                   1.000000            0.342040     0.984196   \n",
       " Dietary Fibre (g)                 0.342040            1.000000     0.184171   \n",
       " Sugars (g)                        0.984196            0.184171     1.000000   \n",
       " Protein (g)                       0.360449            0.540274     0.263061   \n",
       "\n",
       "                            Protein (g)   \n",
       "Calories                        0.578453  \n",
       "Trans Fat (g)                   0.496317  \n",
       "Saturated Fat (g)               0.287532  \n",
       " Sodium (mg)                    0.496233  \n",
       " Total Carbohydrates (g)        0.410629  \n",
       "Cholesterol (mg)                0.360449  \n",
       " Dietary Fibre (g)              0.540274  \n",
       " Sugars (g)                     0.263061  \n",
       " Protein (g)                    1.000000  "
      ]
     },
     "execution_count": 28,
     "metadata": {},
     "output_type": "execute_result"
    }
   ],
   "source": [
    "df.corr()"
   ]
  },
  {
   "cell_type": "code",
   "execution_count": 29,
   "metadata": {},
   "outputs": [
    {
     "data": {
      "text/plain": [
       "<seaborn.axisgrid.JointGrid at 0x2ca3dc0ec88>"
      ]
     },
     "execution_count": 29,
     "metadata": {},
     "output_type": "execute_result"
    },
    {
     "data": {
      "image/png": "[encoded data removed]",
      "text/plain": [
       "<Figure size 432x432 with 3 Axes>"
      ]
     },
     "metadata": {
      "needs_background": "light"
     },
     "output_type": "display_data"
    }
   ],
   "source": [
    "sns.jointplot(x = 'Cholesterol (mg)', y = 'Calories' , data = df)"
   ]
  },
  {
   "cell_type": "markdown",
   "metadata": {},
   "source": [
    "Calories and Cholestrol are highly correlated in the positive direction"
   ]
  },
  {
   "cell_type": "code",
   "execution_count": 30,
   "metadata": {},
   "outputs": [
    {
     "data": {
      "text/plain": [
       "<seaborn.axisgrid.JointGrid at 0x2ca3dd4bb88>"
      ]
     },
     "execution_count": 30,
     "metadata": {},
     "output_type": "execute_result"
    },
    {
     "data": {
      "image/png": "[encoded data removed]",
      "text/plain": [
       "<Figure size 432x432 with 3 Axes>"
      ]
     },
     "metadata": {
      "needs_background": "light"
     },
     "output_type": "display_data"
    }
   ],
   "source": [
    "sns.jointplot(x = ' Sugars (g)', y = 'Calories' , data = df)"
   ]
  },
  {
   "cell_type": "markdown",
   "metadata": {},
   "source": [
    "We see that sugar and calories are nearly proportionally related."
   ]
  },
  {
   "cell_type": "markdown",
   "metadata": {},
   "source": [
    "### Future Scope\n",
    "- Using prediction/classification analysis for one of the beverages"
   ]
  }
 ],
 "metadata": {
  "kernelspec": {
   "display_name": "Python 3",
   "language": "python",
   "name": "python3"
  },
  "language_info": {
   "codemirror_mode": {
    "name": "ipython",
    "version": 3
   },
   "file_extension": ".py",
   "mimetype": "text/x-python",
   "name": "python",
   "nbconvert_exporter": "python",
   "pygments_lexer": "ipython3",
   "version": "3.7.6"
  }
 },
 "nbformat": 4,
 "nbformat_minor": 4
}
